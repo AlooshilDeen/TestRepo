{
 "cells": [
  {
   "cell_type": "markdown",
   "id": "cab471df",
   "metadata": {},
   "source": [
    "# Data Science Tools and Ecosystem"
   ]
  },
  {
   "cell_type": "markdown",
   "id": "28903b86",
   "metadata": {},
   "source": [
    "In this notebook, Data Science Tools and Ecosystem are summarised."
   ]
  },
  {
   "cell_type": "markdown",
   "id": "5504cc0b",
   "metadata": {},
   "source": [
    "**Objectives:**\n",
    "- create a JupterNotebook\n",
    "- add markdown cells\n",
    "- create unordered lists\n",
    "- create ordered lists\n",
    "- create simple arithmetic operations\n",
    "- create a table\n",
    "- use bold text"
   ]
  },
  {
   "cell_type": "markdown",
   "id": "ad26a242",
   "metadata": {},
   "source": [
    "Some of the popular languages that Data Scientists use are:\n",
    "    \n",
    "1. Python\n",
    "2. R\n",
    "3. C++\n",
    "4. Scala\n",
    "5. SQL\n",
    "6. Julia"
   ]
  },
  {
   "cell_type": "markdown",
   "id": "d4477737",
   "metadata": {},
   "source": [
    "Some of the most commonly used libraries used by Data Scientists include:\n",
    "\n",
    "1. scikit-learn\n",
    "2. numpy\n",
    "3. matplotlib\n",
    "4. tensorflow\n",
    "5. pandas"
   ]
  },
  {
   "cell_type": "markdown",
   "id": "5ecde765",
   "metadata": {},
   "source": [
    "|Data Science Tools|\n",
    "|:------------------|\n",
    "|Jupyter Notebook|\n",
    "|RStudio|\n",
    "|JupyterLab|\n",
    "|Google Collab|\n",
    "|Apache Sparl|"
   ]
  },
  {
   "cell_type": "markdown",
   "id": "965e8594",
   "metadata": {},
   "source": [
    "### Below are a few examples of evaluating arithmetic expressions in Python"
   ]
  },
  {
   "cell_type": "markdown",
   "id": "6f8f466d",
   "metadata": {},
   "source": [
    "This is a simple arithmetic expression to multiply then add integers"
   ]
  },
  {
   "cell_type": "code",
   "execution_count": 7,
   "id": "45125f23",
   "metadata": {},
   "outputs": [
    {
     "data": {
      "text/plain": [
       "17"
      ]
     },
     "execution_count": 7,
     "metadata": {},
     "output_type": "execute_result"
    }
   ],
   "source": [
    "(3*4)+5"
   ]
  },
  {
   "cell_type": "markdown",
   "id": "2e3f45fc",
   "metadata": {},
   "source": [
    "This will convert 200 minutes to hours by divising by 60"
   ]
  },
  {
   "cell_type": "code",
   "execution_count": 10,
   "id": "466bad4e",
   "metadata": {},
   "outputs": [
    {
     "name": "stdout",
     "output_type": "stream",
     "text": [
      "3.3333333333333335\n"
     ]
    }
   ],
   "source": [
    "minutes = 200\n",
    "hours = minutes/60\n",
    "print(hours)"
   ]
  },
  {
   "cell_type": "markdown",
   "id": "23ef10be",
   "metadata": {},
   "source": [
    "## Author:\n",
    "Ala Marar"
   ]
  },
  {
   "cell_type": "code",
   "execution_count": null,
   "id": "0d5a2f63",
   "metadata": {},
   "outputs": [],
   "source": []
  },
  {
   "cell_type": "code",
   "execution_count": null,
   "id": "c945a92c",
   "metadata": {},
   "outputs": [],
   "source": []
  },
  {
   "cell_type": "code",
   "execution_count": null,
   "id": "5a9d6a9e",
   "metadata": {},
   "outputs": [],
   "source": []
  },
  {
   "cell_type": "code",
   "execution_count": null,
   "id": "0c208842",
   "metadata": {},
   "outputs": [],
   "source": []
  }
 ],
 "metadata": {
  "kernelspec": {
   "display_name": "Python 3 (ipykernel)",
   "language": "python",
   "name": "python3"
  },
  "language_info": {
   "codemirror_mode": {
    "name": "ipython",
    "version": 3
   },
   "file_extension": ".py",
   "mimetype": "text/x-python",
   "name": "python",
   "nbconvert_exporter": "python",
   "pygments_lexer": "ipython3",
   "version": "3.11.4"
  }
 },
 "nbformat": 4,
 "nbformat_minor": 5
}
